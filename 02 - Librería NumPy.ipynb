{
 "cells": [
  {
   "cell_type": "code",
   "execution_count": 2,
   "id": "784f5adf",
   "metadata": {},
   "outputs": [
    {
     "data": {
      "text/plain": [
       "['Texto', True, [1, 2, 3], 5.63]"
      ]
     },
     "execution_count": 2,
     "metadata": {},
     "output_type": "execute_result"
    }
   ],
   "source": [
    "[\"Texto\", True, [1,2,3], 5.63]"
   ]
  },
  {
   "cell_type": "code",
   "execution_count": 1,
   "id": "ffcdedc3",
   "metadata": {},
   "outputs": [
    {
     "data": {
      "text/plain": [
       "[3, 5, -7, 0]"
      ]
     },
     "execution_count": 1,
     "metadata": {},
     "output_type": "execute_result"
    }
   ],
   "source": [
    "my_list = [3, 5, -7, 0]\n",
    "my_list"
   ]
  },
  {
   "cell_type": "code",
   "execution_count": 3,
   "id": "234ad743",
   "metadata": {},
   "outputs": [],
   "source": [
    "import numpy as np"
   ]
  },
  {
   "cell_type": "code",
   "execution_count": 4,
   "id": "9fb46ba0",
   "metadata": {},
   "outputs": [
    {
     "data": {
      "text/plain": [
       "array([ 3,  5, -7,  0])"
      ]
     },
     "execution_count": 4,
     "metadata": {},
     "output_type": "execute_result"
    }
   ],
   "source": [
    "my_array = np.array(my_list)\n",
    "my_array"
   ]
  },
  {
   "cell_type": "code",
   "execution_count": 5,
   "id": "4643e031",
   "metadata": {},
   "outputs": [
    {
     "name": "stdout",
     "output_type": "stream",
     "text": [
      "<class 'numpy.ndarray'>\n"
     ]
    }
   ],
   "source": [
    "print(type(my_array))"
   ]
  },
  {
   "cell_type": "code",
   "execution_count": 6,
   "id": "a251b2a3",
   "metadata": {},
   "outputs": [
    {
     "data": {
      "text/plain": [
       "array([[1, 2, 3],\n",
       "       [4, 5, 6],\n",
       "       [7, 8, 9]])"
      ]
     },
     "execution_count": 6,
     "metadata": {},
     "output_type": "execute_result"
    }
   ],
   "source": [
    "my_mat = np.array([[1,2,3], [4,5,6], [7,8,9]])\n",
    "my_mat"
   ]
  },
  {
   "cell_type": "code",
   "execution_count": 10,
   "id": "da83b55d",
   "metadata": {},
   "outputs": [
    {
     "data": {
      "text/plain": [
       "array([ 5. ,  7.5, 10. , 12.5])"
      ]
     },
     "execution_count": 10,
     "metadata": {},
     "output_type": "execute_result"
    }
   ],
   "source": [
    "np.arange(5, 15, 2.5)"
   ]
  },
  {
   "cell_type": "code",
   "execution_count": 12,
   "id": "44cd2844",
   "metadata": {},
   "outputs": [
    {
     "data": {
      "text/plain": [
       "array([0., 0., 0., 0., 0., 0., 0., 0., 0., 0.])"
      ]
     },
     "execution_count": 12,
     "metadata": {},
     "output_type": "execute_result"
    }
   ],
   "source": [
    "np.zeros(10)"
   ]
  },
  {
   "cell_type": "code",
   "execution_count": 13,
   "id": "4fb7e05c",
   "metadata": {},
   "outputs": [
    {
     "data": {
      "text/plain": [
       "array([[0., 0., 0., 0.],\n",
       "       [0., 0., 0., 0.],\n",
       "       [0., 0., 0., 0.],\n",
       "       [0., 0., 0., 0.],\n",
       "       [0., 0., 0., 0.]])"
      ]
     },
     "execution_count": 13,
     "metadata": {},
     "output_type": "execute_result"
    }
   ],
   "source": [
    "np.zeros((5,4))"
   ]
  },
  {
   "cell_type": "code",
   "execution_count": 14,
   "id": "58684c5c",
   "metadata": {},
   "outputs": [
    {
     "data": {
      "text/plain": [
       "array([[1., 1., 1., 1.],\n",
       "       [1., 1., 1., 1.],\n",
       "       [1., 1., 1., 1.],\n",
       "       [1., 1., 1., 1.],\n",
       "       [1., 1., 1., 1.]])"
      ]
     },
     "execution_count": 14,
     "metadata": {},
     "output_type": "execute_result"
    }
   ],
   "source": [
    "np.ones((5,4))"
   ]
  },
  {
   "cell_type": "code",
   "execution_count": 15,
   "id": "ec1776e4",
   "metadata": {},
   "outputs": [
    {
     "data": {
      "text/plain": [
       "array([[1., 0., 0., 0., 0.],\n",
       "       [0., 1., 0., 0., 0.],\n",
       "       [0., 0., 1., 0., 0.],\n",
       "       [0., 0., 0., 1., 0.],\n",
       "       [0., 0., 0., 0., 1.]])"
      ]
     },
     "execution_count": 15,
     "metadata": {},
     "output_type": "execute_result"
    }
   ],
   "source": [
    "np.eye(5)"
   ]
  },
  {
   "cell_type": "code",
   "execution_count": 16,
   "id": "6f38ddc9",
   "metadata": {},
   "outputs": [
    {
     "data": {
      "text/plain": [
       "array([1. , 1.5, 2. , 2.5, 3. , 3.5, 4. , 4.5, 5. , 5.5, 6. , 6.5, 7. ,\n",
       "       7.5, 8. , 8.5, 9. , 9.5])"
      ]
     },
     "execution_count": 16,
     "metadata": {},
     "output_type": "execute_result"
    }
   ],
   "source": [
    "np.arange(1, 10, 0.5)"
   ]
  },
  {
   "cell_type": "code",
   "execution_count": 19,
   "id": "c8658a29",
   "metadata": {},
   "outputs": [
    {
     "data": {
      "text/plain": [
       "array([ 1.        ,  1.47368421,  1.94736842,  2.42105263,  2.89473684,\n",
       "        3.36842105,  3.84210526,  4.31578947,  4.78947368,  5.26315789,\n",
       "        5.73684211,  6.21052632,  6.68421053,  7.15789474,  7.63157895,\n",
       "        8.10526316,  8.57894737,  9.05263158,  9.52631579, 10.        ])"
      ]
     },
     "execution_count": 19,
     "metadata": {},
     "output_type": "execute_result"
    }
   ],
   "source": [
    "np.linspace(1, 10, 20)"
   ]
  },
  {
   "cell_type": "code",
   "execution_count": 20,
   "id": "6199aef0",
   "metadata": {},
   "outputs": [
    {
     "data": {
      "text/plain": [
       "(4,)"
      ]
     },
     "execution_count": 20,
     "metadata": {},
     "output_type": "execute_result"
    }
   ],
   "source": [
    "my_array.shape"
   ]
  },
  {
   "cell_type": "code",
   "execution_count": 21,
   "id": "d1ad3f60",
   "metadata": {},
   "outputs": [
    {
     "data": {
      "text/plain": [
       "(3, 3)"
      ]
     },
     "execution_count": 21,
     "metadata": {},
     "output_type": "execute_result"
    }
   ],
   "source": [
    "my_mat.shape"
   ]
  },
  {
   "cell_type": "code",
   "execution_count": 22,
   "id": "227ee225",
   "metadata": {},
   "outputs": [
    {
     "data": {
      "text/plain": [
       "0.7410369683035927"
      ]
     },
     "execution_count": 22,
     "metadata": {},
     "output_type": "execute_result"
    }
   ],
   "source": [
    "np.random.rand()"
   ]
  },
  {
   "cell_type": "code",
   "execution_count": 23,
   "id": "458e5503",
   "metadata": {},
   "outputs": [
    {
     "data": {
      "text/plain": [
       "array([0.26322056])"
      ]
     },
     "execution_count": 23,
     "metadata": {},
     "output_type": "execute_result"
    }
   ],
   "source": [
    "np.random.rand(1)"
   ]
  },
  {
   "cell_type": "code",
   "execution_count": 24,
   "id": "98e4c7bd",
   "metadata": {},
   "outputs": [
    {
     "data": {
      "text/plain": [
       "array([0.26784922, 0.44164829, 0.90843083, 0.73602464, 0.32486509])"
      ]
     },
     "execution_count": 24,
     "metadata": {},
     "output_type": "execute_result"
    }
   ],
   "source": [
    "np.random.rand(5)"
   ]
  },
  {
   "cell_type": "code",
   "execution_count": 29,
   "id": "4a89a0df",
   "metadata": {},
   "outputs": [
    {
     "data": {
      "text/plain": [
       "array([[0.51707207, 0.89712153, 0.0322467 , 0.85292567],\n",
       "       [0.22314349, 0.44086518, 0.89447517, 0.32061264],\n",
       "       [0.20252321, 0.66331614, 0.44847479, 0.06841262],\n",
       "       [0.82272565, 0.23606402, 0.03571448, 0.81567845],\n",
       "       [0.61251965, 0.20225865, 0.83922147, 0.42661328]])"
      ]
     },
     "execution_count": 29,
     "metadata": {},
     "output_type": "execute_result"
    }
   ],
   "source": [
    "np.random.rand(5, 4)"
   ]
  },
  {
   "cell_type": "code",
   "execution_count": 33,
   "id": "09695401",
   "metadata": {},
   "outputs": [],
   "source": [
    "import matplotlib.pyplot as plt"
   ]
  },
  {
   "cell_type": "code",
   "execution_count": 34,
   "id": "a7c52e9f",
   "metadata": {},
   "outputs": [],
   "source": [
    "%matplotlib inline"
   ]
  },
  {
   "cell_type": "code",
   "execution_count": 46,
   "id": "64ed9e75",
   "metadata": {},
   "outputs": [
    {
     "data": {
      "image/png": "[encoded data removed]",
      "text/plain": [
       "<Figure size 432x288 with 1 Axes>"
      ]
     },
     "metadata": {
      "needs_background": "light"
     },
     "output_type": "display_data"
    }
   ],
   "source": [
    "plt.hist(np.random.rand(100), bins=50)\n",
    "plt.show()"
   ]
  },
  {
   "cell_type": "code",
   "execution_count": 50,
   "id": "3cee8edc",
   "metadata": {},
   "outputs": [
    {
     "data": {
      "text/plain": [
       "-2.000852142396277"
      ]
     },
     "execution_count": 50,
     "metadata": {},
     "output_type": "execute_result"
    }
   ],
   "source": [
    "np.random.randn()"
   ]
  },
  {
   "cell_type": "code",
   "execution_count": 56,
   "id": "dcda2634",
   "metadata": {},
   "outputs": [
    {
     "data": {
      "text/plain": [
       "array([-1.93565468,  0.86524141, -1.35528329,  1.18695863,  0.95550298])"
      ]
     },
     "execution_count": 56,
     "metadata": {},
     "output_type": "execute_result"
    }
   ],
   "source": [
    "np.random.randn(5)"
   ]
  },
  {
   "cell_type": "code",
   "execution_count": 58,
   "id": "24f9a730",
   "metadata": {},
   "outputs": [
    {
     "data": {
      "text/plain": [
       "array([[-0.74623206, -0.65560721,  1.0512325 , -1.78986834],\n",
       "       [ 1.57795988,  0.94306563, -1.65782493,  0.6064401 ],\n",
       "       [-0.24154711, -0.54758468,  0.29719871,  0.34516959],\n",
       "       [ 0.08163921,  0.8939989 , -1.38745427,  0.49718123],\n",
       "       [ 0.84384649, -1.06068924, -0.64643602,  0.86043469]])"
      ]
     },
     "execution_count": 58,
     "metadata": {},
     "output_type": "execute_result"
    }
   ],
   "source": [
    "np.random.randn(5, 4)"
   ]
  },
  {
   "cell_type": "code",
   "execution_count": 55,
   "id": "61e6b85d",
   "metadata": {},
   "outputs": [
    {
     "data": {
      "image/png": "[encoded data removed]",
      "text/plain": [
       "<Figure size 432x288 with 1 Axes>"
      ]
     },
     "metadata": {
      "needs_background": "light"
     },
     "output_type": "display_data"
    }
   ],
   "source": [
    "plt.hist(np.random.randn(10000000), bins=100)\n",
    "plt.show()"
   ]
  },
  {
   "cell_type": "code",
   "execution_count": 68,
   "id": "78c41d2c",
   "metadata": {},
   "outputs": [
    {
     "data": {
      "text/plain": [
       "array([[4, 1, 2, 6, 1],\n",
       "       [0, 9, 1, 8, 1],\n",
       "       [2, 6, 9, 4, 9],\n",
       "       [9, 2, 6, 3, 4],\n",
       "       [9, 1, 1, 6, 2]])"
      ]
     },
     "execution_count": 68,
     "metadata": {},
     "output_type": "execute_result"
    }
   ],
   "source": [
    "np.random.randint(10, size=(5,5))"
   ]
  },
  {
   "cell_type": "code",
   "execution_count": 82,
   "id": "ef625933",
   "metadata": {},
   "outputs": [],
   "source": [
    "my_array = np.random.randint(100, size=24)"
   ]
  },
  {
   "cell_type": "code",
   "execution_count": 83,
   "id": "48b41344",
   "metadata": {},
   "outputs": [
    {
     "data": {
      "text/plain": [
       "array([[17, 45, 33, 79],\n",
       "       [55, 45, 31, 59],\n",
       "       [33, 73, 24,  8],\n",
       "       [59, 49, 74, 59],\n",
       "       [50, 27, 83, 50],\n",
       "       [32, 90, 22, 67]])"
      ]
     },
     "execution_count": 83,
     "metadata": {},
     "output_type": "execute_result"
    }
   ],
   "source": [
    "my_array.reshape(6,4)"
   ]
  },
  {
   "cell_type": "code",
   "execution_count": 84,
   "id": "772d69be",
   "metadata": {},
   "outputs": [
    {
     "data": {
      "text/plain": [
       "array([[17, 45, 33],\n",
       "       [79, 55, 45],\n",
       "       [31, 59, 33],\n",
       "       [73, 24,  8],\n",
       "       [59, 49, 74],\n",
       "       [59, 50, 27],\n",
       "       [83, 50, 32],\n",
       "       [90, 22, 67]])"
      ]
     },
     "execution_count": 84,
     "metadata": {},
     "output_type": "execute_result"
    }
   ],
   "source": [
    "my_array.reshape(8,3)"
   ]
  },
  {
   "cell_type": "code",
   "execution_count": 85,
   "id": "153ec5ef",
   "metadata": {},
   "outputs": [
    {
     "data": {
      "text/plain": [
       "90"
      ]
     },
     "execution_count": 85,
     "metadata": {},
     "output_type": "execute_result"
    }
   ],
   "source": [
    "my_array.max()"
   ]
  },
  {
   "cell_type": "code",
   "execution_count": 86,
   "id": "3d57b177",
   "metadata": {},
   "outputs": [
    {
     "data": {
      "text/plain": [
       "8"
      ]
     },
     "execution_count": 86,
     "metadata": {},
     "output_type": "execute_result"
    }
   ],
   "source": [
    "my_array.min()"
   ]
  },
  {
   "cell_type": "code",
   "execution_count": 88,
   "id": "fdd64a5a",
   "metadata": {},
   "outputs": [
    {
     "data": {
      "text/plain": [
       "21"
      ]
     },
     "execution_count": 88,
     "metadata": {},
     "output_type": "execute_result"
    }
   ],
   "source": [
    "my_array.argmax()"
   ]
  },
  {
   "cell_type": "code",
   "execution_count": 89,
   "id": "05961d9c",
   "metadata": {},
   "outputs": [
    {
     "data": {
      "text/plain": [
       "11"
      ]
     },
     "execution_count": 89,
     "metadata": {},
     "output_type": "execute_result"
    }
   ],
   "source": [
    "my_array.argmin()"
   ]
  },
  {
   "cell_type": "code",
   "execution_count": 90,
   "id": "db3dc17d",
   "metadata": {},
   "outputs": [
    {
     "data": {
      "text/plain": [
       "dtype('int32')"
      ]
     },
     "execution_count": 90,
     "metadata": {},
     "output_type": "execute_result"
    }
   ],
   "source": [
    "my_array.dtype"
   ]
  },
  {
   "cell_type": "code",
   "execution_count": 91,
   "id": "ca80b5f0",
   "metadata": {},
   "outputs": [
    {
     "data": {
      "text/plain": [
       "90"
      ]
     },
     "execution_count": 91,
     "metadata": {},
     "output_type": "execute_result"
    }
   ],
   "source": [
    "np.max(my_array)"
   ]
  },
  {
   "cell_type": "code",
   "execution_count": 92,
   "id": "e206e83a",
   "metadata": {},
   "outputs": [
    {
     "data": {
      "text/plain": [
       "8"
      ]
     },
     "execution_count": 92,
     "metadata": {},
     "output_type": "execute_result"
    }
   ],
   "source": [
    "np.min(my_array)"
   ]
  },
  {
   "cell_type": "code",
   "execution_count": 94,
   "id": "1f6e1040",
   "metadata": {},
   "outputs": [
    {
     "data": {
      "text/plain": [
       "array([4.12310563, 6.70820393, 5.74456265, 8.88819442, 7.41619849,\n",
       "       6.70820393, 5.56776436, 7.68114575, 5.74456265, 8.54400375,\n",
       "       4.89897949, 2.82842712, 7.68114575, 7.        , 8.60232527,\n",
       "       7.68114575, 7.07106781, 5.19615242, 9.11043358, 7.07106781,\n",
       "       5.65685425, 9.48683298, 4.69041576, 8.18535277])"
      ]
     },
     "execution_count": 94,
     "metadata": {},
     "output_type": "execute_result"
    }
   ],
   "source": [
    "np.sqrt(my_array)"
   ]
  },
  {
   "cell_type": "code",
   "execution_count": 95,
   "id": "90e935e5",
   "metadata": {},
   "outputs": [
    {
     "data": {
      "text/plain": [
       "array([-0.96139749,  0.85090352,  0.99991186, -0.44411267, -0.99975517,\n",
       "        0.85090352, -0.40403765,  0.63673801,  0.99991186, -0.67677196,\n",
       "       -0.90557836,  0.98935825,  0.63673801, -0.95375265, -0.98514626,\n",
       "        0.63673801, -0.26237485,  0.95637593,  0.96836446, -0.26237485,\n",
       "        0.55142668,  0.89399666, -0.00885131, -0.85551998])"
      ]
     },
     "execution_count": 95,
     "metadata": {},
     "output_type": "execute_result"
    }
   ],
   "source": [
    "np.sin(my_array)"
   ]
  },
  {
   "cell_type": "code",
   "execution_count": 112,
   "id": "86abaa7e",
   "metadata": {},
   "outputs": [
    {
     "data": {
      "text/plain": [
       "array([  6, -15, -12,   7,  -4,  -9,   0,   9,  15,   7])"
      ]
     },
     "execution_count": 112,
     "metadata": {},
     "output_type": "execute_result"
    }
   ],
   "source": [
    "my_array = np.random.randint(-20,20,10)\n",
    "my_array"
   ]
  },
  {
   "cell_type": "code",
   "execution_count": 113,
   "id": "e06be5f6",
   "metadata": {},
   "outputs": [
    {
     "data": {
      "text/plain": [
       "7"
      ]
     },
     "execution_count": 113,
     "metadata": {},
     "output_type": "execute_result"
    }
   ],
   "source": [
    "my_array[3]"
   ]
  },
  {
   "cell_type": "code",
   "execution_count": 114,
   "id": "b9e137c8",
   "metadata": {},
   "outputs": [
    {
     "data": {
      "text/plain": [
       "7"
      ]
     },
     "execution_count": 114,
     "metadata": {},
     "output_type": "execute_result"
    }
   ],
   "source": [
    "my_array[-1]"
   ]
  },
  {
   "cell_type": "code",
   "execution_count": 115,
   "id": "bdabeade",
   "metadata": {},
   "outputs": [
    {
     "data": {
      "text/plain": [
       "array([  6, -15, -12,  57,  -4,  -9,   0,   9,  15,   7])"
      ]
     },
     "execution_count": 115,
     "metadata": {},
     "output_type": "execute_result"
    }
   ],
   "source": [
    "my_array[3] = 57\n",
    "my_array"
   ]
  },
  {
   "cell_type": "code",
   "execution_count": 117,
   "id": "3a344376",
   "metadata": {},
   "outputs": [
    {
     "data": {
      "text/plain": [
       "array([  6, -15, -12, 100, 100, 100,   0,   9,  15,   7])"
      ]
     },
     "execution_count": 117,
     "metadata": {},
     "output_type": "execute_result"
    }
   ],
   "source": [
    "my_array[3:6] = 100\n",
    "my_array"
   ]
  },
  {
   "cell_type": "code",
   "execution_count": 120,
   "id": "166d37fb",
   "metadata": {},
   "outputs": [
    {
     "name": "stdout",
     "output_type": "stream",
     "text": [
      "[  6 -15 -12 -25 -25 -25   0   9  15   7]\n",
      "[  6 -15 -12 100 100 100   0   9  15   7]\n"
     ]
    }
   ],
   "source": [
    "array_copy = my_array.copy()\n",
    "array_copy[3:6] = -25\n",
    "print(array_copy)\n",
    "print(my_array)"
   ]
  },
  {
   "cell_type": "code",
   "execution_count": 126,
   "id": "f3c2aa4f",
   "metadata": {},
   "outputs": [
    {
     "data": {
      "text/plain": [
       "array([[ -7,   4, -20, -19, -14],\n",
       "       [ -6,   0,  -4, -11,   5],\n",
       "       [ -9,   9,   1, -13,  17],\n",
       "       [-14,   5, -11, -12,  -6],\n",
       "       [-17, -13,   0,  12,  19]])"
      ]
     },
     "execution_count": 126,
     "metadata": {},
     "output_type": "execute_result"
    }
   ],
   "source": [
    "my_mat = np.random.randint(-20,20,(5,5))\n",
    "my_mat"
   ]
  },
  {
   "cell_type": "code",
   "execution_count": 129,
   "id": "5b6d8a01",
   "metadata": {},
   "outputs": [
    {
     "data": {
      "text/plain": [
       "array([[ -7,   4, -20, -19, -14],\n",
       "       [ -6,   0,  -4, -11,   5],\n",
       "       [ 10,  10,  10,  10,  10],\n",
       "       [-14,   5, -11, -12,  -6],\n",
       "       [-17, -13,   0,  12,  19]])"
      ]
     },
     "execution_count": 129,
     "metadata": {},
     "output_type": "execute_result"
    }
   ],
   "source": [
    "my_mat[2] = 10\n",
    "my_mat"
   ]
  },
  {
   "cell_type": "code",
   "execution_count": 130,
   "id": "69c05075",
   "metadata": {},
   "outputs": [
    {
     "data": {
      "text/plain": [
       "array([[  9, -16,  15,  -6,   3],\n",
       "       [  1,  -5, -20,  -4,  11],\n",
       "       [-13,  12,   6,  -8,  -7],\n",
       "       [-20,   6,   6,  19,   5],\n",
       "       [-19, -19,  17,   0,   0]])"
      ]
     },
     "execution_count": 130,
     "metadata": {},
     "output_type": "execute_result"
    }
   ],
   "source": [
    "my_mat = np.random.randint(-20,20,(5,5))\n",
    "my_mat"
   ]
  },
  {
   "cell_type": "code",
   "execution_count": 131,
   "id": "cdb50a7a",
   "metadata": {},
   "outputs": [
    {
     "data": {
      "text/plain": [
       "-8"
      ]
     },
     "execution_count": 131,
     "metadata": {},
     "output_type": "execute_result"
    }
   ],
   "source": [
    "my_mat[2][3]"
   ]
  },
  {
   "cell_type": "code",
   "execution_count": 132,
   "id": "c6d0b88e",
   "metadata": {},
   "outputs": [
    {
     "data": {
      "text/plain": [
       "-8"
      ]
     },
     "execution_count": 132,
     "metadata": {},
     "output_type": "execute_result"
    }
   ],
   "source": [
    "my_mat[2,3]"
   ]
  },
  {
   "cell_type": "code",
   "execution_count": 136,
   "id": "c0136867",
   "metadata": {},
   "outputs": [
    {
     "data": {
      "text/plain": [
       "array([[  1,  -5, -20,  -4,  11],\n",
       "       [-13,  12,   6,  -8,  -7],\n",
       "       [-20,   6,   6,  19,   5]])"
      ]
     },
     "execution_count": 136,
     "metadata": {},
     "output_type": "execute_result"
    }
   ],
   "source": [
    "my_mat[1:4]"
   ]
  },
  {
   "cell_type": "code",
   "execution_count": 137,
   "id": "ec4dd8f2",
   "metadata": {},
   "outputs": [
    {
     "data": {
      "text/plain": [
       "array([[-13,  12,   6,  -8,  -7]])"
      ]
     },
     "execution_count": 137,
     "metadata": {},
     "output_type": "execute_result"
    }
   ],
   "source": [
    "my_mat[1:4][1:2]"
   ]
  },
  {
   "cell_type": "code",
   "execution_count": 144,
   "id": "77f85a1f",
   "metadata": {},
   "outputs": [
    {
     "data": {
      "text/plain": [
       "array([[ -5, -20],\n",
       "       [ 12,   6],\n",
       "       [  6,   6]])"
      ]
     },
     "execution_count": 144,
     "metadata": {},
     "output_type": "execute_result"
    }
   ],
   "source": [
    "my_mat[1:4,1:3]"
   ]
  },
  {
   "cell_type": "code",
   "execution_count": 145,
   "id": "2ed51bf1",
   "metadata": {},
   "outputs": [
    {
     "data": {
      "text/plain": [
       "array([[ -4,  15,  17, -11,  -2],\n",
       "       [  4, -17,  -4,  16,  -8],\n",
       "       [-19,   7,  15,  12,  -2],\n",
       "       [  7,  -5,  15,  14,  17],\n",
       "       [ 10,   9,   2, -11,  15]])"
      ]
     },
     "execution_count": 145,
     "metadata": {},
     "output_type": "execute_result"
    }
   ],
   "source": [
    "my_mat = np.random.randint(-20,20,(5,5))\n",
    "my_mat"
   ]
  },
  {
   "cell_type": "code",
   "execution_count": 146,
   "id": "c03b0495",
   "metadata": {},
   "outputs": [
    {
     "data": {
      "text/plain": [
       "array([[False,  True,  True, False, False],\n",
       "       [False, False, False,  True, False],\n",
       "       [False, False,  True,  True, False],\n",
       "       [False, False,  True,  True,  True],\n",
       "       [False, False, False, False,  True]])"
      ]
     },
     "execution_count": 146,
     "metadata": {},
     "output_type": "execute_result"
    }
   ],
   "source": [
    "my_mat > 10"
   ]
  },
  {
   "cell_type": "code",
   "execution_count": 147,
   "id": "29e03cec",
   "metadata": {},
   "outputs": [
    {
     "data": {
      "text/plain": [
       "array([15, 17, 16, 15, 12, 15, 14, 17, 15])"
      ]
     },
     "execution_count": 147,
     "metadata": {},
     "output_type": "execute_result"
    }
   ],
   "source": [
    "my_mat[my_mat > 10]"
   ]
  },
  {
   "cell_type": "code",
   "execution_count": 148,
   "id": "6e3eb1e5",
   "metadata": {},
   "outputs": [
    {
     "data": {
      "text/plain": [
       "array([[ -4,   0,   0, -11,  -2],\n",
       "       [  4, -17,  -4,   0,  -8],\n",
       "       [-19,   7,   0,   0,  -2],\n",
       "       [  7,  -5,   0,   0,   0],\n",
       "       [ 10,   9,   2, -11,   0]])"
      ]
     },
     "execution_count": 148,
     "metadata": {},
     "output_type": "execute_result"
    }
   ],
   "source": [
    "my_mat[my_mat > 10] = 0\n",
    "my_mat"
   ]
  },
  {
   "cell_type": "code",
   "execution_count": 150,
   "id": "ea0be492",
   "metadata": {},
   "outputs": [
    {
     "data": {
      "text/plain": [
       "array([[ -2,  -3, -15],\n",
       "       [-17,   9,  15],\n",
       "       [ 11,  -4,  -9]])"
      ]
     },
     "execution_count": 150,
     "metadata": {},
     "output_type": "execute_result"
    }
   ],
   "source": [
    "my_mat = np.random.randint(-20,20,(3,3))\n",
    "my_mat"
   ]
  },
  {
   "cell_type": "code",
   "execution_count": 153,
   "id": "a51a71dc",
   "metadata": {},
   "outputs": [
    {
     "data": {
      "text/plain": [
       "array([[-0.90929743, -0.14112001, -0.65028784],\n",
       "       [ 0.96139749,  0.41211849,  0.65028784],\n",
       "       [-0.99999021,  0.7568025 , -0.41211849]])"
      ]
     },
     "execution_count": 153,
     "metadata": {},
     "output_type": "execute_result"
    }
   ],
   "source": [
    "np.sin(my_mat)"
   ]
  },
  {
   "cell_type": "code",
   "execution_count": 156,
   "id": "e7d80bbd",
   "metadata": {},
   "outputs": [
    {
     "data": {
      "text/plain": [
       "array([[ -5,  -6, -18],\n",
       "       [-20,   6,  12],\n",
       "       [  8,  -7, -12]])"
      ]
     },
     "execution_count": 156,
     "metadata": {},
     "output_type": "execute_result"
    }
   ],
   "source": [
    "my_mat - 3"
   ]
  },
  {
   "cell_type": "code",
   "execution_count": 157,
   "id": "3c97a5db",
   "metadata": {},
   "outputs": [
    {
     "data": {
      "text/plain": [
       "array([[ -6,  -9, -45],\n",
       "       [-51,  27,  45],\n",
       "       [ 33, -12, -27]])"
      ]
     },
     "execution_count": 157,
     "metadata": {},
     "output_type": "execute_result"
    }
   ],
   "source": [
    "my_mat * 3"
   ]
  },
  {
   "cell_type": "code",
   "execution_count": 160,
   "id": "4f7dd2f2",
   "metadata": {},
   "outputs": [
    {
     "data": {
      "text/plain": [
       "array([[ -4,  -6, -30],\n",
       "       [-34,  18,  30],\n",
       "       [ 22,  -8, -18]])"
      ]
     },
     "execution_count": 160,
     "metadata": {},
     "output_type": "execute_result"
    }
   ],
   "source": [
    "my_mat + my_mat"
   ]
  },
  {
   "cell_type": "code",
   "execution_count": 161,
   "id": "17acc94f",
   "metadata": {},
   "outputs": [
    {
     "data": {
      "text/plain": [
       "array([[  4,   9, 225],\n",
       "       [289,  81, 225],\n",
       "       [121,  16,  81]])"
      ]
     },
     "execution_count": 161,
     "metadata": {},
     "output_type": "execute_result"
    }
   ],
   "source": [
    "my_mat * my_mat"
   ]
  },
  {
   "cell_type": "code",
   "execution_count": 162,
   "id": "c695277d",
   "metadata": {},
   "outputs": [
    {
     "data": {
      "text/plain": [
       "array([[ -2,   0, -15],\n",
       "       [-17,   0,  15],\n",
       "       [ 11,   0,  -9]])"
      ]
     },
     "execution_count": 162,
     "metadata": {},
     "output_type": "execute_result"
    }
   ],
   "source": [
    "my_mat * [1, 0, 1]"
   ]
  },
  {
   "cell_type": "code",
   "execution_count": 163,
   "id": "a82209fd",
   "metadata": {},
   "outputs": [
    {
     "data": {
      "text/plain": [
       "array([[ -2,   0, -15],\n",
       "       [-17,   0,  15],\n",
       "       [ 11,   0,  -9]])"
      ]
     },
     "execution_count": 163,
     "metadata": {},
     "output_type": "execute_result"
    }
   ],
   "source": [
    "my_mat * np.array([1, 0, 1])"
   ]
  },
  {
   "cell_type": "code",
   "execution_count": 165,
   "id": "7756d188",
   "metadata": {},
   "outputs": [
    {
     "data": {
      "text/plain": [
       "array([[ -2,   0, -15],\n",
       "       [-17,   0,  15],\n",
       "       [ 11,   0,  -9]])"
      ]
     },
     "execution_count": 165,
     "metadata": {},
     "output_type": "execute_result"
    }
   ],
   "source": [
    "my_mat * np.array([1, 0, 1])"
   ]
  },
  {
   "cell_type": "code",
   "execution_count": 166,
   "id": "bdba7467",
   "metadata": {},
   "outputs": [
    {
     "data": {
      "text/plain": [
       "array([[ -2,   0, -15],\n",
       "       [-17,   0,  15],\n",
       "       [ 11,   0,  -9]])"
      ]
     },
     "execution_count": 166,
     "metadata": {},
     "output_type": "execute_result"
    }
   ],
   "source": [
    "my_mat * (1, 0, 1)"
   ]
  },
  {
   "cell_type": "code",
   "execution_count": 170,
   "id": "a2d1431e",
   "metadata": {},
   "outputs": [
    {
     "data": {
      "text/plain": [
       "array([[-7,  6, -8],\n",
       "       [-2,  6,  5],\n",
       "       [-3,  5,  0]])"
      ]
     },
     "execution_count": 170,
     "metadata": {},
     "output_type": "execute_result"
    }
   ],
   "source": [
    "my_mat = np.random.randint(-10,10,(3,3))\n",
    "my_mat"
   ]
  },
  {
   "cell_type": "code",
   "execution_count": 171,
   "id": "5860eee8",
   "metadata": {},
   "outputs": [
    {
     "data": {
      "text/plain": [
       "array([-23,   8,  -3])"
      ]
     },
     "execution_count": 171,
     "metadata": {},
     "output_type": "execute_result"
    }
   ],
   "source": [
    "my_mat @ [1, 0, 2]"
   ]
  },
  {
   "cell_type": "code",
   "execution_count": 172,
   "id": "f5171f99",
   "metadata": {},
   "outputs": [
    {
     "data": {
      "text/plain": [
       "array([-23,   8,  -3])"
      ]
     },
     "execution_count": 172,
     "metadata": {},
     "output_type": "execute_result"
    }
   ],
   "source": [
    "my_mat @ np.array([1, 0, 2])"
   ]
  },
  {
   "cell_type": "code",
   "execution_count": 174,
   "id": "4bc5eda5",
   "metadata": {},
   "outputs": [
    {
     "data": {
      "text/plain": [
       "array([[-23],\n",
       "       [  8],\n",
       "       [ -3]])"
      ]
     },
     "execution_count": 174,
     "metadata": {},
     "output_type": "execute_result"
    }
   ],
   "source": [
    "# my_mat @ np.array([[1, 0, 2]])\n",
    "my_mat @ np.array([[1], [0], [2]])"
   ]
  },
  {
   "cell_type": "code",
   "execution_count": 175,
   "id": "d1b855f8",
   "metadata": {},
   "outputs": [
    {
     "data": {
      "text/plain": [
       "array([[ 61, -46,  86],\n",
       "       [-13,  49,  46],\n",
       "       [ 11,  12,  49]])"
      ]
     },
     "execution_count": 175,
     "metadata": {},
     "output_type": "execute_result"
    }
   ],
   "source": [
    "my_mat @ my_mat"
   ]
  },
  {
   "cell_type": "code",
   "execution_count": 176,
   "id": "98135996",
   "metadata": {},
   "outputs": [
    {
     "data": {
      "text/plain": [
       "array([[-13,  16,  -8]])"
      ]
     },
     "execution_count": 176,
     "metadata": {},
     "output_type": "execute_result"
    }
   ],
   "source": [
    "np.array([[1, 0, 2]]) @ my_mat"
   ]
  },
  {
   "cell_type": "code",
   "execution_count": 177,
   "id": "5a1a0f1b",
   "metadata": {},
   "outputs": [
    {
     "data": {
      "text/plain": [
       "array([-1,  2, 12])"
      ]
     },
     "execution_count": 177,
     "metadata": {},
     "output_type": "execute_result"
    }
   ],
   "source": [
    "np.array([1,2,3]) * np.array([-1,1,4])"
   ]
  },
  {
   "cell_type": "code",
   "execution_count": 178,
   "id": "42336792",
   "metadata": {},
   "outputs": [
    {
     "data": {
      "text/plain": [
       "13"
      ]
     },
     "execution_count": 178,
     "metadata": {},
     "output_type": "execute_result"
    }
   ],
   "source": [
    "np.array([1,2,3]) @ np.array([-1,1,4])"
   ]
  },
  {
   "cell_type": "code",
   "execution_count": 179,
   "id": "2940e630",
   "metadata": {},
   "outputs": [
    {
     "data": {
      "text/plain": [
       "13"
      ]
     },
     "execution_count": 179,
     "metadata": {},
     "output_type": "execute_result"
    }
   ],
   "source": [
    "np.array([1,2,3]).dot(np.array([-1,1,4]))"
   ]
  },
  {
   "cell_type": "code",
   "execution_count": null,
   "id": "9deebbd0",
   "metadata": {},
   "outputs": [],
   "source": []
  }
 ],
 "metadata": {
  "kernelspec": {
   "display_name": "Python 3",
   "language": "python",
   "name": "python3"
  },
  "language_info": {
   "codemirror_mode": {
    "name": "ipython",
    "version": 3
   },
   "file_extension": ".py",
   "mimetype": "text/x-python",
   "name": "python",
   "nbconvert_exporter": "python",
   "pygments_lexer": "ipython3",
   "version": "3.9.6"
  }
 },
 "nbformat": 4,
 "nbformat_minor": 5
}
