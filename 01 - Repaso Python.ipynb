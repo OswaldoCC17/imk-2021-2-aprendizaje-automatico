{
 "cells": [
  {
   "cell_type": "code",
   "execution_count": 7,
   "id": "45330353",
   "metadata": {},
   "outputs": [
    {
     "name": "stdout",
     "output_type": "stream",
     "text": [
      "12\n",
      "1\n",
      "12\n",
      "3.75\n",
      "3\n",
      "3\n",
      "8\n"
     ]
    }
   ],
   "source": [
    "print(7 + 5)\n",
    "print(7 - 6)\n",
    "print(4 * 3)\n",
    "print(15 / 4)\n",
    "print(15 // 4)\n",
    "print(15 % 4)\n",
    "print(2 ** 3)"
   ]
  },
  {
   "cell_type": "code",
   "execution_count": 8,
   "id": "67d307cb",
   "metadata": {},
   "outputs": [
    {
     "name": "stdout",
     "output_type": "stream",
     "text": [
      "10\n",
      "hola\n"
     ]
    }
   ],
   "source": [
    "x = 10\n",
    "print(x)\n",
    "\n",
    "x = \"hola\"\n",
    "print(x)"
   ]
  },
  {
   "cell_type": "code",
   "execution_count": 22,
   "id": "47cc98c8",
   "metadata": {},
   "outputs": [
    {
     "name": "stdout",
     "output_type": "stream",
     "text": [
      "x es 0\n"
     ]
    }
   ],
   "source": [
    "x = 0\n",
    "\n",
    "if x > 0:\n",
    "    print(\"x es (+)\")\n",
    "elif x == 0:\n",
    "    print(\"x es 0\")\n",
    "else:\n",
    "    print(\"x es (-)\")"
   ]
  },
  {
   "cell_type": "code",
   "execution_count": 27,
   "id": "3eebed82",
   "metadata": {},
   "outputs": [
    {
     "name": "stdout",
     "output_type": "stream",
     "text": [
      "variable está dentro del intervalo requerido\n",
      "variable está dentro del intervalo requerido\n"
     ]
    }
   ],
   "source": [
    "x = 5\n",
    "\n",
    "if x>2 and x<7:\n",
    "    print(\"variable está dentro del intervalo requerido\")\n",
    "    \n",
    "if 2 < x < 7:\n",
    "    print(\"variable está dentro del intervalo requerido\")"
   ]
  },
  {
   "cell_type": "code",
   "execution_count": 30,
   "id": "cc5dac0e",
   "metadata": {},
   "outputs": [
    {
     "name": "stdout",
     "output_type": "stream",
     "text": [
      "m=10, n=5\n",
      "m=5, n=10\n"
     ]
    }
   ],
   "source": [
    "m = 10\n",
    "n = 5\n",
    "print(f\"m={m}, n={n}\")\n",
    "\n",
    "m, n = n, m\n",
    "print(f\"m={m}, n={n}\")"
   ]
  },
  {
   "cell_type": "code",
   "execution_count": 39,
   "id": "921f4f27",
   "metadata": {},
   "outputs": [
    {
     "name": "stdout",
     "output_type": "stream",
     "text": [
      "<class 'int'>\n",
      "<class 'float'>\n",
      "<class 'bool'>\n",
      "<class 'str'>\n",
      "<class 'complex'>\n"
     ]
    }
   ],
   "source": [
    "print(type(5))\n",
    "print(type(5.52588))\n",
    "print(type(True))\n",
    "print(type('Texto'))\n",
    "print(type(5+6j))"
   ]
  },
  {
   "cell_type": "code",
   "execution_count": 40,
   "id": "0f6ef226",
   "metadata": {},
   "outputs": [
    {
     "name": "stdout",
     "output_type": "stream",
     "text": [
      "<class 'range'>\n"
     ]
    }
   ],
   "source": [
    "print(type(range(5)))"
   ]
  },
  {
   "cell_type": "code",
   "execution_count": 48,
   "id": "2bac5652",
   "metadata": {},
   "outputs": [
    {
     "name": "stdout",
     "output_type": "stream",
     "text": [
      "<class 'int'>\n",
      "<class 'NoneType'>\n"
     ]
    }
   ],
   "source": [
    "x = 5\n",
    "print(type(x))\n",
    "\n",
    "x = None # pendiente \"nullable\" types\n",
    "print(type(x))"
   ]
  },
  {
   "cell_type": "code",
   "execution_count": 59,
   "id": "8b28a64f",
   "metadata": {},
   "outputs": [
    {
     "name": "stdout",
     "output_type": "stream",
     "text": [
      "5\n",
      "7\n",
      "9\n",
      "11\n",
      "13\n",
      "15\n",
      "17\n"
     ]
    }
   ],
   "source": [
    "for i in range(5, 20, 2):\n",
    "    print(f\"{i}\")\n",
    "    \n",
    "    if i>15:\n",
    "        break\n",
    "else:\n",
    "    print(\"fin de ciclo...\")"
   ]
  },
  {
   "cell_type": "code",
   "execution_count": 60,
   "id": "8e4db162",
   "metadata": {},
   "outputs": [
    {
     "data": {
      "text/plain": [
       "[1, 5, 7, 18]"
      ]
     },
     "execution_count": 60,
     "metadata": {},
     "output_type": "execute_result"
    }
   ],
   "source": [
    "[1, 5, 7, 18]"
   ]
  },
  {
   "cell_type": "code",
   "execution_count": 63,
   "id": "92b9cf6d",
   "metadata": {},
   "outputs": [
    {
     "data": {
      "text/plain": [
       "list"
      ]
     },
     "execution_count": 63,
     "metadata": {},
     "output_type": "execute_result"
    }
   ],
   "source": [
    "type([1, 5, 7, 18])"
   ]
  },
  {
   "cell_type": "code",
   "execution_count": 73,
   "id": "8726879c",
   "metadata": {},
   "outputs": [
    {
     "data": {
      "text/plain": [
       "[0, 1, 2, 3, 4, 5, 6, 7, 8, 9]"
      ]
     },
     "execution_count": 73,
     "metadata": {},
     "output_type": "execute_result"
    }
   ],
   "source": [
    "mi_lista = list(range(10))\n",
    "mi_lista"
   ]
  },
  {
   "cell_type": "code",
   "execution_count": 74,
   "id": "3d174ec9",
   "metadata": {},
   "outputs": [
    {
     "data": {
      "text/plain": [
       "3"
      ]
     },
     "execution_count": 74,
     "metadata": {},
     "output_type": "execute_result"
    }
   ],
   "source": [
    "mi_lista[3]"
   ]
  },
  {
   "cell_type": "code",
   "execution_count": 75,
   "id": "1b550863",
   "metadata": {},
   "outputs": [
    {
     "data": {
      "text/plain": [
       "[0, 1, 2, -745, 4, 5, 6, 7, 8, 9]"
      ]
     },
     "execution_count": 75,
     "metadata": {},
     "output_type": "execute_result"
    }
   ],
   "source": [
    "mi_lista[3] = -745\n",
    "mi_lista"
   ]
  },
  {
   "cell_type": "code",
   "execution_count": 76,
   "id": "d822ede2",
   "metadata": {},
   "outputs": [
    {
     "data": {
      "text/plain": [
       "9"
      ]
     },
     "execution_count": 76,
     "metadata": {},
     "output_type": "execute_result"
    }
   ],
   "source": [
    "mi_lista[-1]"
   ]
  },
  {
   "cell_type": "code",
   "execution_count": 78,
   "id": "e2a048c6",
   "metadata": {},
   "outputs": [
    {
     "data": {
      "text/plain": [
       "[2, -745, 4, 5]"
      ]
     },
     "execution_count": 78,
     "metadata": {},
     "output_type": "execute_result"
    }
   ],
   "source": [
    "mi_lista[2:6]"
   ]
  },
  {
   "cell_type": "code",
   "execution_count": 80,
   "id": "fa273a99",
   "metadata": {},
   "outputs": [
    {
     "data": {
      "text/plain": [
       "[7, 8]"
      ]
     },
     "execution_count": 80,
     "metadata": {},
     "output_type": "execute_result"
    }
   ],
   "source": [
    "mi_lista[-3:-1]"
   ]
  },
  {
   "cell_type": "code",
   "execution_count": 81,
   "id": "367176a6",
   "metadata": {},
   "outputs": [
    {
     "data": {
      "text/plain": [
       "[4, 5, 6, 7, 8, 9]"
      ]
     },
     "execution_count": 81,
     "metadata": {},
     "output_type": "execute_result"
    }
   ],
   "source": [
    "mi_lista[4:]"
   ]
  },
  {
   "cell_type": "code",
   "execution_count": 82,
   "id": "c08f28fb",
   "metadata": {},
   "outputs": [
    {
     "data": {
      "text/plain": [
       "[0, 1, 2, -745, 4]"
      ]
     },
     "execution_count": 82,
     "metadata": {},
     "output_type": "execute_result"
    }
   ],
   "source": [
    "mi_lista[:5]"
   ]
  },
  {
   "cell_type": "code",
   "execution_count": 83,
   "id": "79c26195",
   "metadata": {},
   "outputs": [
    {
     "data": {
      "text/plain": [
       "[0, 1, 2, -745, 4, 5, 6, 7, 8, 9]"
      ]
     },
     "execution_count": 83,
     "metadata": {},
     "output_type": "execute_result"
    }
   ],
   "source": [
    "mi_lista[:]"
   ]
  },
  {
   "cell_type": "code",
   "execution_count": 87,
   "id": "d1f257e2",
   "metadata": {},
   "outputs": [
    {
     "name": "stdout",
     "output_type": "stream",
     "text": [
      "[0, 1, 2, -745, 4, -56, 6, 7, 8, 9]\n",
      "[0, 1, 2, -745, 4, 5, 6, 7, 8, 9]\n"
     ]
    }
   ],
   "source": [
    "otro = mi_lista[:]\n",
    "otro[5] = -56\n",
    "print(otro)\n",
    "print(mi_lista)"
   ]
  },
  {
   "cell_type": "code",
   "execution_count": 91,
   "id": "d058c14d",
   "metadata": {},
   "outputs": [
    {
     "name": "stdout",
     "output_type": "stream",
     "text": [
      "[2, 0, 4, 5]\n",
      "[0, 1, 2, -745, 4, 5, 6, 7, 8, 9]\n"
     ]
    }
   ],
   "source": [
    "x = mi_lista[2:6]\n",
    "x[1] = 0\n",
    "print(x)\n",
    "print(mi_lista)"
   ]
  },
  {
   "cell_type": "code",
   "execution_count": 93,
   "id": "9183bd5d",
   "metadata": {},
   "outputs": [
    {
     "name": "stdout",
     "output_type": "stream",
     "text": [
      "0\n",
      "1\n",
      "2\n",
      "-745\n",
      "4\n",
      "5\n",
      "6\n",
      "7\n",
      "8\n",
      "9\n"
     ]
    }
   ],
   "source": [
    "for val in mi_lista:\n",
    "    print(val)"
   ]
  },
  {
   "cell_type": "code",
   "execution_count": 94,
   "id": "a9dec2f8",
   "metadata": {},
   "outputs": [],
   "source": [
    "data = [5, 8, -1, -45, 6, 32, -25, 0]"
   ]
  },
  {
   "cell_type": "code",
   "execution_count": 95,
   "id": "5d39b116",
   "metadata": {},
   "outputs": [
    {
     "name": "stdout",
     "output_type": "stream",
     "text": [
      "[-1, -45, -25]\n"
     ]
    }
   ],
   "source": [
    "a = []\n",
    "\n",
    "for i in data:\n",
    "    if i < 0:\n",
    "        a.append(i)\n",
    "\n",
    "print(a)"
   ]
  },
  {
   "cell_type": "code",
   "execution_count": 102,
   "id": "1da9101c",
   "metadata": {},
   "outputs": [
    {
     "data": {
      "text/plain": [
       "[6, 9, 0, -44, 7, 33, -24, 1]"
      ]
     },
     "execution_count": 102,
     "metadata": {},
     "output_type": "execute_result"
    }
   ],
   "source": [
    "# list comprehension\n",
    "[i+1 for i in data]"
   ]
  },
  {
   "cell_type": "code",
   "execution_count": 103,
   "id": "3e2f17cf",
   "metadata": {},
   "outputs": [
    {
     "data": {
      "text/plain": [
       "[25, 64, 1, 2025, 36, 1024, 625, 0]"
      ]
     },
     "execution_count": 103,
     "metadata": {},
     "output_type": "execute_result"
    }
   ],
   "source": [
    "[i**2 for i in data]"
   ]
  },
  {
   "cell_type": "code",
   "execution_count": 105,
   "id": "1cbc138a",
   "metadata": {},
   "outputs": [
    {
     "data": {
      "text/plain": [
       "[1, 45, 25]"
      ]
     },
     "execution_count": 105,
     "metadata": {},
     "output_type": "execute_result"
    }
   ],
   "source": [
    "[abs(i) for i in data if i < 0]"
   ]
  },
  {
   "cell_type": "code",
   "execution_count": 106,
   "id": "6dad0394",
   "metadata": {},
   "outputs": [
    {
     "data": {
      "text/plain": [
       "10"
      ]
     },
     "execution_count": 106,
     "metadata": {},
     "output_type": "execute_result"
    }
   ],
   "source": [
    "a = 5\n",
    "b = 10\n",
    "max = a if a > b else b\n",
    "max"
   ]
  },
  {
   "cell_type": "code",
   "execution_count": 107,
   "id": "e0a5aa0e",
   "metadata": {},
   "outputs": [
    {
     "data": {
      "text/plain": [
       "5"
      ]
     },
     "execution_count": 107,
     "metadata": {},
     "output_type": "execute_result"
    }
   ],
   "source": [
    "a = -5\n",
    "\n",
    "pos = a if a > 0 else -a\n",
    "pos"
   ]
  },
  {
   "cell_type": "code",
   "execution_count": 111,
   "id": "d3c3bcb1",
   "metadata": {},
   "outputs": [
    {
     "data": {
      "text/plain": [
       "10"
      ]
     },
     "execution_count": 111,
     "metadata": {},
     "output_type": "execute_result"
    }
   ],
   "source": [
    "def suma(x, y):\n",
    "    return x + y\n",
    "\n",
    "suma(4, 6)"
   ]
  },
  {
   "cell_type": "code",
   "execution_count": 115,
   "id": "9990a32c",
   "metadata": {},
   "outputs": [
    {
     "data": {
      "text/plain": [
       "-3"
      ]
     },
     "execution_count": 115,
     "metadata": {},
     "output_type": "execute_result"
    }
   ],
   "source": [
    "suma2 = lambda x,y: x+y\n",
    "suma2(5,-8)"
   ]
  },
  {
   "cell_type": "code",
   "execution_count": 116,
   "id": "57caea6a",
   "metadata": {},
   "outputs": [],
   "source": [
    "def dynamic(x, y, op):\n",
    "    return op(x,y)"
   ]
  },
  {
   "cell_type": "code",
   "execution_count": 117,
   "id": "57181db8",
   "metadata": {},
   "outputs": [
    {
     "data": {
      "text/plain": [
       "-8"
      ]
     },
     "execution_count": 117,
     "metadata": {},
     "output_type": "execute_result"
    }
   ],
   "source": [
    "dynamic(7, -15, suma)"
   ]
  },
  {
   "cell_type": "code",
   "execution_count": 118,
   "id": "b6d73857",
   "metadata": {},
   "outputs": [
    {
     "data": {
      "text/plain": [
       "2"
      ]
     },
     "execution_count": 118,
     "metadata": {},
     "output_type": "execute_result"
    }
   ],
   "source": [
    "dynamic(8, -6, suma2)"
   ]
  },
  {
   "cell_type": "code",
   "execution_count": 122,
   "id": "a7459b9c",
   "metadata": {},
   "outputs": [
    {
     "data": {
      "text/plain": [
       "12"
      ]
     },
     "execution_count": 122,
     "metadata": {},
     "output_type": "execute_result"
    }
   ],
   "source": [
    "dynamic(4, 3, lambda x,y: x*y)"
   ]
  },
  {
   "cell_type": "code",
   "execution_count": 123,
   "id": "5fa0ca6e",
   "metadata": {},
   "outputs": [],
   "source": [
    "import math"
   ]
  },
  {
   "cell_type": "code",
   "execution_count": 125,
   "id": "4a02f862",
   "metadata": {},
   "outputs": [
    {
     "data": {
      "text/plain": [
       "1.4142135623730951"
      ]
     },
     "execution_count": 125,
     "metadata": {},
     "output_type": "execute_result"
    }
   ],
   "source": [
    "dynamic(1, 1, lambda x,y: math.sqrt(x**2 + y**2))"
   ]
  },
  {
   "cell_type": "code",
   "execution_count": 130,
   "id": "e9029835",
   "metadata": {},
   "outputs": [],
   "source": [
    "# no method overloading\n",
    "def suma(x, y):\n",
    "    return x+y\n",
    "\n",
    "def suma(x):\n",
    "    return x"
   ]
  },
  {
   "cell_type": "code",
   "execution_count": 137,
   "id": "feced8f8",
   "metadata": {},
   "outputs": [
    {
     "name": "stdout",
     "output_type": "stream",
     "text": [
      "1\n",
      "2\n",
      "3\n",
      "4\n",
      "5\n",
      "6\n",
      "7\n",
      "8\n",
      "9\n",
      "10\n"
     ]
    }
   ],
   "source": [
    "i = 0\n",
    "while i < 10:\n",
    "    i += 1\n",
    "    print(i)"
   ]
  },
  {
   "cell_type": "code",
   "execution_count": null,
   "id": "35e13c68",
   "metadata": {},
   "outputs": [],
   "source": []
  }
 ],
 "metadata": {
  "kernelspec": {
   "display_name": "Python 3",
   "language": "python",
   "name": "python3"
  },
  "language_info": {
   "codemirror_mode": {
    "name": "ipython",
    "version": 3
   },
   "file_extension": ".py",
   "mimetype": "text/x-python",
   "name": "python",
   "nbconvert_exporter": "python",
   "pygments_lexer": "ipython3",
   "version": "3.9.6"
  }
 },
 "nbformat": 4,
 "nbformat_minor": 5
}
